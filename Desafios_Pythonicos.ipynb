{
  "nbformat": 4,
  "nbformat_minor": 0,
  "metadata": {
    "colab": {
      "name": "Desafios Pythonicos.ipynb",
      "provenance": [],
      "collapsed_sections": [],
      "authorship_tag": "ABX9TyNnMw9GxebcVAcloGmESJ9D",
      "include_colab_link": true
    },
    "kernelspec": {
      "name": "python3",
      "display_name": "Python 3"
    },
    "language_info": {
      "name": "python"
    }
  },
  "cells": [
    {
      "cell_type": "markdown",
      "metadata": {
        "id": "view-in-github",
        "colab_type": "text"
      },
      "source": [
        "<a href=\"https://colab.research.google.com/github/arnottrcaiado/pacote-desafios-pythonicos/blob/master/Desafios_Pythonicos.ipynb\" target=\"_parent\"><img src=\"https://colab.research.google.com/assets/colab-badge.svg\" alt=\"Open In Colab\"/></a>"
      ]
    },
    {
      "cell_type": "markdown",
      "metadata": {
        "id": "Ifpx_Z_LnRhJ"
      },
      "source": [
        "Desafios Pythonicos"
      ]
    },
    {
      "cell_type": "code",
      "metadata": {
        "colab": {
          "base_uri": "https://localhost:8080/"
        },
        "id": "K38Cb8aZnPyB",
        "outputId": "145398ca-c198-49db-cee5-63f49fc89ae2"
      },
      "source": [
        "\"\"\"\n",
        "01. donuts\n",
        "\n",
        "Dado um contador inteiro do numero de donuts, retorne uma string\n",
        "com o formato 'Number of donuts: <count>' onde <count> é o numero\n",
        "recebido. Entretanto, se o contador for 10 ou mais, use a palavra 'many'\n",
        "ao invés do contador.\n",
        "Exemplo: donuts(5) retorna 'Number of donuts: 5'\n",
        "e donuts(23) retorna 'Number of donuts: many'\n",
        "\"\"\"\n",
        "\n",
        "def donuts(count):\n",
        "    if count < 10 :\n",
        "        resp = str(count)\n",
        "    else:\n",
        "        resp = 'many'\n",
        "    return 'Number of donuts: '+ resp\n",
        "    # +++ SUA SOLUÇÃO +++\n",
        "    return\n",
        "\n",
        "\n",
        "# --- Daqui para baixo são apenas códigos auxiliáries de teste. ---\n",
        "\n",
        "def test(f, in_, expected):\n",
        "    \"\"\"\n",
        "    Executa a função f com o parâmetro in_ e compara o resultado com expected.\n",
        "    :return: Exibe uma mensagem indicando se a função f está correta ou não.\n",
        "    \"\"\"\n",
        "    out = f(in_)\n",
        "\n",
        "    if out == expected:\n",
        "        sign = '✅'\n",
        "        info = ''\n",
        "    else:\n",
        "        sign = '❌'\n",
        "        info = f'e o correto é {expected!r}'\n",
        "\n",
        "    print(f'{sign} {f.__name__}({in_!r}) retornou {out!r} {info}')\n",
        "\n",
        "\n",
        "if __name__ == '__main__':\n",
        "    # Testes que verificam o resultado do seu código em alguns cenários.\n",
        "    test(donuts, 4, 'Number of donuts: 4')\n",
        "    test(donuts, 9, 'Number of donuts: 9')\n",
        "    test(donuts, 10, 'Number of donuts: many')\n",
        "    test(donuts, 99, 'Number of donuts: many')"
      ],
      "execution_count": 3,
      "outputs": [
        {
          "output_type": "stream",
          "name": "stdout",
          "text": [
            "✅ donuts(4) retornou 'Number of donuts: 4' \n",
            "✅ donuts(9) retornou 'Number of donuts: 9' \n",
            "✅ donuts(10) retornou 'Number of donuts: many' \n",
            "✅ donuts(99) retornou 'Number of donuts: many' \n"
          ]
        }
      ]
    },
    {
      "cell_type": "code",
      "metadata": {
        "id": "_2dgoLydpetL"
      },
      "source": [
        "s = 'atendente'"
      ],
      "execution_count": 4,
      "outputs": []
    },
    {
      "cell_type": "code",
      "metadata": {
        "colab": {
          "base_uri": "https://localhost:8080/",
          "height": 35
        },
        "id": "YP1ut04lph5O",
        "outputId": "b9e8739f-5ce4-4f61-a99e-1037947528bb"
      },
      "source": [
        "s[:2]+s[-2:]"
      ],
      "execution_count": 13,
      "outputs": [
        {
          "output_type": "execute_result",
          "data": {
            "application/vnd.google.colaboratory.intrinsic+json": {
              "type": "string"
            },
            "text/plain": [
              "'atte'"
            ]
          },
          "metadata": {},
          "execution_count": 13
        }
      ]
    },
    {
      "cell_type": "code",
      "metadata": {
        "colab": {
          "base_uri": "https://localhost:8080/"
        },
        "id": "qC7OLNt_pYAx",
        "outputId": "b0d9969a-8b71-4e27-b8fd-4a9a7518fa13"
      },
      "source": [
        "\"\"\"\n",
        "02. both_ends\n",
        "Dada uma string s, retorne uma string feita com os dois primeiros\n",
        "e os dois ultimos caracteres da string original.\n",
        "Exemplo: 'spring' retorna 'spng'. Entretanto, se o tamanho da string\n",
        "for menor que 2, retorne uma string vazia.\n",
        "\"\"\"\n",
        "\n",
        "def both_ends(s):\n",
        "    nova=''\n",
        "    if len(s) >= 2:\n",
        "        nova = s[:2]+s[-2:]\n",
        "    # +++ SUA SOLUÇÃO +++\n",
        "    return nova\n",
        "\n",
        "\n",
        "# --- Daqui para baixo são apenas códigos auxiliáries de teste. ---\n",
        "\n",
        "def test(f, in_, expected):\n",
        "    \"\"\"\n",
        "    Executa a função f com o parâmetro in_ e compara o resultado com expected.\n",
        "    :return: Exibe uma mensagem indicando se a função f está correta ou não.\n",
        "    \"\"\"\n",
        "    out = f(in_)\n",
        "\n",
        "    if out == expected:\n",
        "        sign = '✅'\n",
        "        info = ''\n",
        "    else:\n",
        "        sign = '❌'\n",
        "        info = f'e o correto é {expected!r}'\n",
        "\n",
        "    print(f'{sign} {f.__name__}({in_!r}) retornou {out!r} {info}')\n",
        "\n",
        "\n",
        "if __name__ == '__main__':\n",
        "    # Testes que verificam o resultado do seu código em alguns cenários.\n",
        "    test(both_ends, 'spring', 'spng')\n",
        "    test(both_ends, 'Hello', 'Helo')\n",
        "    test(both_ends, 'a', '')\n",
        "    test(both_ends, 'xyz', 'xyyz')"
      ],
      "execution_count": 15,
      "outputs": [
        {
          "output_type": "stream",
          "name": "stdout",
          "text": [
            "✅ both_ends('spring') retornou 'spng' \n",
            "✅ both_ends('Hello') retornou 'Helo' \n",
            "✅ both_ends('a') retornou '' \n",
            "✅ both_ends('xyz') retornou 'xyyz' \n"
          ]
        }
      ]
    },
    {
      "cell_type": "code",
      "metadata": {
        "colab": {
          "base_uri": "https://localhost:8080/"
        },
        "id": "9SPoR9a_tPEn",
        "outputId": "85d8ab6a-ba5d-4849-caca-82c0650538f3"
      },
      "source": [
        "\"\"\"\n",
        "03. fix_start\n",
        "Dada uma string s, retorne uma string onde\n",
        "todas as ocorrências do primeiro caracter de s\n",
        "foram substituidas por '*', exceto a primeira.\n",
        "Exemplo: 'babble' retorna 'ba**le'\n",
        "Assuma que a string tem tamanho 1 ou maior.\n",
        "Dica: s.replace(stra, strb) retorna uma versão da string s\n",
        "onde todas as instancias de stra foram substituidas por strb.\n",
        "\"\"\"\n",
        "\n",
        "def fix_start(s):\n",
        "    s1 = s[0]\n",
        "    s1 += s[1:].replace( s[0],'*')\n",
        "    # +++ SUA SOLUÇÃO +++\n",
        "    return s1\n",
        "\n",
        "\n",
        "# --- Daqui para baixo são apenas códigos auxiliáries de teste. ---\n",
        "\n",
        "def test(f, in_, expected):\n",
        "    \"\"\"\n",
        "    Executa a função f com o parâmetro in_ e compara o resultado com expected.\n",
        "    :return: Exibe uma mensagem indicando se a função f está correta ou não.\n",
        "    \"\"\"\n",
        "    out = f(in_)\n",
        "\n",
        "    if out == expected:\n",
        "        sign = '✅'\n",
        "        info = ''\n",
        "    else:\n",
        "        sign = '❌'\n",
        "        info = f'e o correto é {expected!r}'\n",
        "\n",
        "    print(f'{sign} {f.__name__}({in_!r}) retornou {out!r} {info}')\n",
        "\n",
        "\n",
        "if __name__ == '__main__':\n",
        "    # Testes que verificam o resultado do seu código em alguns cenários.\n",
        "    test(fix_start, 'babble', 'ba**le')\n",
        "    test(fix_start, 'aardvark', 'a*rdv*rk')\n",
        "    test(fix_start, 'google', 'goo*le')\n",
        "    test(fix_start, 'donut', 'donut')"
      ],
      "execution_count": 17,
      "outputs": [
        {
          "output_type": "stream",
          "name": "stdout",
          "text": [
            "✅ fix_start('babble') retornou 'ba**le' \n",
            "✅ fix_start('aardvark') retornou 'a*rdv*rk' \n",
            "✅ fix_start('google') retornou 'goo*le' \n",
            "✅ fix_start('donut') retornou 'donut' \n"
          ]
        }
      ]
    }
  ]
}